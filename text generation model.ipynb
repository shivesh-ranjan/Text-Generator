{
  "cells": [
    {
      "cell_type": "code",
      "execution_count": 1,
      "metadata": {
        "id": "2LmLTREBf5ng"
      },
      "outputs": [],
      "source": [
        "import tensorflow as tf\n",
        "\n",
        "from tensorflow.keras.preprocessing.text import Tokenizer\n",
        "from tensorflow.keras.preprocessing.sequence import pad_sequences\n",
        "\n",
        "import string\n",
        "import numpy as np\n",
        "import pandas as pd"
      ]
    },
    {
      "cell_type": "markdown",
      "metadata": {
        "id": "GmLTO_dpgge9"
      },
      "source": [
        "## Getting the Song lyrics Dataset\n",
        "\n",
        "https://www.kaggle.com/mousehead/songlyrics"
      ]
    },
    {
      "cell_type": "markdown",
      "metadata": {
        "id": "nWbMN_19jfRT"
      },
      "source": [
        "### Preprocessing"
      ]
    },
    {
      "cell_type": "code",
      "execution_count": 3,
      "metadata": {
        "id": "LRmPPJegovBe"
      },
      "outputs": [],
      "source": [
        "def tokenize_corpus(corpus, num_words=-1):\n",
        "  if num_words > -1:\n",
        "    tokenizer = Tokenizer(num_words=num_words)\n",
        "  else:\n",
        "    tokenizer = Tokenizer()\n",
        "  tokenizer.fit_on_texts(corpus)\n",
        "  return tokenizer\n",
        "\n",
        "def create_lyrics_corpus(dataset, field):\n",
        "  dataset[field] = dataset[field].str.replace('[{}]'.format(string.punctuation), '')\n",
        "  dataset[field] = dataset[field].str.lower()\n",
        "  lyrics = dataset[field].str.cat()\n",
        "  corpus = lyrics.split('\\n')\n",
        "  for l in range(len(corpus)):\n",
        "    corpus[l] = corpus[l].rstrip()\n",
        "  corpus = [l for l in corpus if l != '']\n",
        "  return corpus"
      ]
    },
    {
      "cell_type": "code",
      "execution_count": 4,
      "metadata": {
        "id": "kIGedF3XjHj4",
        "colab": {
          "base_uri": "https://localhost:8080/"
        },
        "outputId": "01116282-4c58-4d02-e28e-5ae247ebb262"
      },
      "outputs": [
        {
          "output_type": "stream",
          "name": "stdout",
          "text": [
            "2000\n"
          ]
        },
        {
          "output_type": "stream",
          "name": "stderr",
          "text": [
            "/usr/local/lib/python3.7/dist-packages/ipykernel_launcher.py:10: FutureWarning: The default value of regex will change from True to False in a future version.\n",
            "  # Remove the CWD from sys.path while we load stuff.\n"
          ]
        }
      ],
      "source": [
        "dataset = pd.read_csv('songdata.csv', dtype=str)[:250]\n",
        "corpus = create_lyrics_corpus(dataset, 'text')\n",
        "tokenizer = tokenize_corpus(corpus, num_words=2000)\n",
        "total_words = tokenizer.num_words\n",
        "print(total_words)"
      ]
    },
    {
      "cell_type": "markdown",
      "metadata": {
        "id": "quoDmw_FkNBA"
      },
      "source": [
        "### Creating sequences and labels"
      ]
    },
    {
      "cell_type": "code",
      "execution_count": 5,
      "metadata": {
        "id": "kkLAf3HmkPSo"
      },
      "outputs": [],
      "source": [
        "sequences = []\n",
        "for line in corpus:\n",
        "\ttoken_list = tokenizer.texts_to_sequences([line])[0]\n",
        "\tfor i in range(1, len(token_list)):\n",
        "\t\tn_gram_sequence = token_list[:i+1]\n",
        "\t\tsequences.append(n_gram_sequence)\n",
        "\n",
        "max_sequence_len = max([len(seq) for seq in sequences])\n",
        "sequences = np.array(pad_sequences(sequences, maxlen=max_sequence_len, padding='pre'))\n",
        "\n",
        "input_sequences, labels = sequences[:,:-1], sequences[:,-1]\n",
        "one_hot_labels = tf.keras.utils.to_categorical(labels, num_classes=total_words)"
      ]
    },
    {
      "cell_type": "code",
      "execution_count": 6,
      "metadata": {
        "id": "7nHOp6uWlP_P",
        "colab": {
          "base_uri": "https://localhost:8080/"
        },
        "outputId": "8d7debe0-7770-41d1-dc17-bcedcf7cedee"
      },
      "outputs": [
        {
          "output_type": "stream",
          "name": "stdout",
          "text": [
            "Epoch 1/100\n",
            "1480/1480 [==============================] - 19s 7ms/step - loss: 5.9810 - accuracy: 0.0468\n",
            "Epoch 2/100\n",
            "1480/1480 [==============================] - 10s 7ms/step - loss: 5.6751 - accuracy: 0.0505\n",
            "Epoch 3/100\n",
            "1480/1480 [==============================] - 10s 7ms/step - loss: 5.4586 - accuracy: 0.0692\n",
            "Epoch 4/100\n",
            "1480/1480 [==============================] - 11s 7ms/step - loss: 5.2912 - accuracy: 0.0969\n",
            "Epoch 5/100\n",
            "1480/1480 [==============================] - 11s 8ms/step - loss: 5.1449 - accuracy: 0.1178\n",
            "Epoch 6/100\n",
            "1480/1480 [==============================] - 11s 7ms/step - loss: 5.0163 - accuracy: 0.1310\n",
            "Epoch 7/100\n",
            "1480/1480 [==============================] - 11s 7ms/step - loss: 4.8904 - accuracy: 0.1413\n",
            "Epoch 8/100\n",
            "1480/1480 [==============================] - 11s 7ms/step - loss: 4.7708 - accuracy: 0.1521\n",
            "Epoch 9/100\n",
            "1480/1480 [==============================] - 11s 8ms/step - loss: 4.6648 - accuracy: 0.1631\n",
            "Epoch 10/100\n",
            "1480/1480 [==============================] - 11s 7ms/step - loss: 4.5674 - accuracy: 0.1729\n",
            "Epoch 11/100\n",
            "1480/1480 [==============================] - 11s 7ms/step - loss: 4.4523 - accuracy: 0.1850\n",
            "Epoch 12/100\n",
            "1480/1480 [==============================] - 11s 8ms/step - loss: 4.3290 - accuracy: 0.1973\n",
            "Epoch 13/100\n",
            "1480/1480 [==============================] - 11s 7ms/step - loss: 4.2244 - accuracy: 0.2104\n",
            "Epoch 14/100\n",
            "1480/1480 [==============================] - 11s 7ms/step - loss: 4.1326 - accuracy: 0.2215\n",
            "Epoch 15/100\n",
            "1480/1480 [==============================] - 11s 7ms/step - loss: 4.0545 - accuracy: 0.2315\n",
            "Epoch 16/100\n",
            "1480/1480 [==============================] - 11s 7ms/step - loss: 3.9760 - accuracy: 0.2401\n",
            "Epoch 17/100\n",
            "1480/1480 [==============================] - 11s 7ms/step - loss: 3.9056 - accuracy: 0.2514\n",
            "Epoch 18/100\n",
            "1480/1480 [==============================] - 11s 7ms/step - loss: 3.8387 - accuracy: 0.2598\n",
            "Epoch 19/100\n",
            "1480/1480 [==============================] - 11s 7ms/step - loss: 3.7808 - accuracy: 0.2671\n",
            "Epoch 20/100\n",
            "1480/1480 [==============================] - 11s 7ms/step - loss: 3.7255 - accuracy: 0.2741\n",
            "Epoch 21/100\n",
            "1480/1480 [==============================] - 11s 7ms/step - loss: 3.6733 - accuracy: 0.2818\n",
            "Epoch 22/100\n",
            "1480/1480 [==============================] - 11s 7ms/step - loss: 3.6255 - accuracy: 0.2876\n",
            "Epoch 23/100\n",
            "1480/1480 [==============================] - 11s 7ms/step - loss: 3.5821 - accuracy: 0.2941\n",
            "Epoch 24/100\n",
            "1480/1480 [==============================] - 11s 7ms/step - loss: 3.5407 - accuracy: 0.2997\n",
            "Epoch 25/100\n",
            "1480/1480 [==============================] - 11s 7ms/step - loss: 3.4995 - accuracy: 0.3057\n",
            "Epoch 26/100\n",
            "1480/1480 [==============================] - 12s 8ms/step - loss: 3.4614 - accuracy: 0.3113\n",
            "Epoch 27/100\n",
            "1480/1480 [==============================] - 11s 7ms/step - loss: 3.4259 - accuracy: 0.3169\n",
            "Epoch 28/100\n",
            "1480/1480 [==============================] - 11s 7ms/step - loss: 3.3912 - accuracy: 0.3228\n",
            "Epoch 29/100\n",
            "1480/1480 [==============================] - 11s 7ms/step - loss: 3.3596 - accuracy: 0.3255\n",
            "Epoch 30/100\n",
            "1480/1480 [==============================] - 11s 7ms/step - loss: 3.3264 - accuracy: 0.3309\n",
            "Epoch 31/100\n",
            "1480/1480 [==============================] - 11s 7ms/step - loss: 3.2949 - accuracy: 0.3361\n",
            "Epoch 32/100\n",
            "1480/1480 [==============================] - 11s 7ms/step - loss: 3.2628 - accuracy: 0.3398\n",
            "Epoch 33/100\n",
            "1480/1480 [==============================] - 11s 7ms/step - loss: 3.2370 - accuracy: 0.3449\n",
            "Epoch 34/100\n",
            "1480/1480 [==============================] - 11s 7ms/step - loss: 3.2088 - accuracy: 0.3492\n",
            "Epoch 35/100\n",
            "1480/1480 [==============================] - 11s 7ms/step - loss: 3.1920 - accuracy: 0.3515\n",
            "Epoch 36/100\n",
            "1480/1480 [==============================] - 11s 7ms/step - loss: 3.1616 - accuracy: 0.3564\n",
            "Epoch 37/100\n",
            "1480/1480 [==============================] - 11s 7ms/step - loss: 3.1316 - accuracy: 0.3611\n",
            "Epoch 38/100\n",
            "1480/1480 [==============================] - 11s 7ms/step - loss: 3.1198 - accuracy: 0.3615\n",
            "Epoch 39/100\n",
            "1480/1480 [==============================] - 11s 7ms/step - loss: 3.0924 - accuracy: 0.3682\n",
            "Epoch 40/100\n",
            "1480/1480 [==============================] - 11s 7ms/step - loss: 3.0722 - accuracy: 0.3703\n",
            "Epoch 41/100\n",
            "1480/1480 [==============================] - 11s 7ms/step - loss: 3.0410 - accuracy: 0.3751\n",
            "Epoch 42/100\n",
            "1480/1480 [==============================] - 11s 7ms/step - loss: 3.0268 - accuracy: 0.3792\n",
            "Epoch 43/100\n",
            "1480/1480 [==============================] - 11s 8ms/step - loss: 3.0031 - accuracy: 0.3842\n",
            "Epoch 44/100\n",
            "1480/1480 [==============================] - 11s 7ms/step - loss: 2.9855 - accuracy: 0.3855\n",
            "Epoch 45/100\n",
            "1480/1480 [==============================] - 11s 7ms/step - loss: 2.9639 - accuracy: 0.3891\n",
            "Epoch 46/100\n",
            "1480/1480 [==============================] - 11s 7ms/step - loss: 2.9506 - accuracy: 0.3920\n",
            "Epoch 47/100\n",
            "1480/1480 [==============================] - 11s 7ms/step - loss: 2.9272 - accuracy: 0.3953\n",
            "Epoch 48/100\n",
            "1480/1480 [==============================] - 10s 7ms/step - loss: 2.9131 - accuracy: 0.3967\n",
            "Epoch 49/100\n",
            "1480/1480 [==============================] - 11s 7ms/step - loss: 2.8939 - accuracy: 0.4009\n",
            "Epoch 50/100\n",
            "1480/1480 [==============================] - 11s 7ms/step - loss: 2.8741 - accuracy: 0.4041\n",
            "Epoch 51/100\n",
            "1480/1480 [==============================] - 11s 7ms/step - loss: 2.8630 - accuracy: 0.4065\n",
            "Epoch 52/100\n",
            "1480/1480 [==============================] - 11s 7ms/step - loss: 2.8404 - accuracy: 0.4110\n",
            "Epoch 53/100\n",
            "1480/1480 [==============================] - 11s 7ms/step - loss: 2.8308 - accuracy: 0.4119\n",
            "Epoch 54/100\n",
            "1480/1480 [==============================] - 11s 7ms/step - loss: 2.8116 - accuracy: 0.4143\n",
            "Epoch 55/100\n",
            "1480/1480 [==============================] - 11s 7ms/step - loss: 2.7962 - accuracy: 0.4166\n",
            "Epoch 56/100\n",
            "1480/1480 [==============================] - 11s 7ms/step - loss: 2.7918 - accuracy: 0.4191\n",
            "Epoch 57/100\n",
            "1480/1480 [==============================] - 11s 7ms/step - loss: 2.7850 - accuracy: 0.4175\n",
            "Epoch 58/100\n",
            "1480/1480 [==============================] - 11s 7ms/step - loss: 2.7570 - accuracy: 0.4248\n",
            "Epoch 59/100\n",
            "1480/1480 [==============================] - 11s 7ms/step - loss: 2.7511 - accuracy: 0.4231\n",
            "Epoch 60/100\n",
            "1480/1480 [==============================] - 10s 7ms/step - loss: 2.7274 - accuracy: 0.4285\n",
            "Epoch 61/100\n",
            "1480/1480 [==============================] - 11s 8ms/step - loss: 2.7133 - accuracy: 0.4310\n",
            "Epoch 62/100\n",
            "1480/1480 [==============================] - 11s 7ms/step - loss: 2.7078 - accuracy: 0.4321\n",
            "Epoch 63/100\n",
            "1480/1480 [==============================] - 11s 7ms/step - loss: 2.6981 - accuracy: 0.4339\n",
            "Epoch 64/100\n",
            "1480/1480 [==============================] - 11s 7ms/step - loss: 2.6819 - accuracy: 0.4382\n",
            "Epoch 65/100\n",
            "1480/1480 [==============================] - 11s 7ms/step - loss: 2.6713 - accuracy: 0.4375\n",
            "Epoch 66/100\n",
            "1480/1480 [==============================] - 11s 7ms/step - loss: 2.6609 - accuracy: 0.4398\n",
            "Epoch 67/100\n",
            "1480/1480 [==============================] - 11s 7ms/step - loss: 2.6471 - accuracy: 0.4421\n",
            "Epoch 68/100\n",
            "1480/1480 [==============================] - 11s 7ms/step - loss: 2.6363 - accuracy: 0.4442\n",
            "Epoch 69/100\n",
            "1480/1480 [==============================] - 11s 7ms/step - loss: 2.6224 - accuracy: 0.4454\n",
            "Epoch 70/100\n",
            "1480/1480 [==============================] - 11s 7ms/step - loss: 2.6094 - accuracy: 0.4486\n",
            "Epoch 71/100\n",
            "1480/1480 [==============================] - 11s 7ms/step - loss: 2.6171 - accuracy: 0.4460\n",
            "Epoch 72/100\n",
            "1480/1480 [==============================] - 11s 7ms/step - loss: 2.5926 - accuracy: 0.4512\n",
            "Epoch 73/100\n",
            "1480/1480 [==============================] - 11s 7ms/step - loss: 2.5794 - accuracy: 0.4538\n",
            "Epoch 74/100\n",
            "1480/1480 [==============================] - 11s 7ms/step - loss: 2.5758 - accuracy: 0.4548\n",
            "Epoch 75/100\n",
            "1480/1480 [==============================] - 11s 7ms/step - loss: 2.5648 - accuracy: 0.4556\n",
            "Epoch 76/100\n",
            "1480/1480 [==============================] - 10s 7ms/step - loss: 2.5592 - accuracy: 0.4566\n",
            "Epoch 77/100\n",
            "1480/1480 [==============================] - 11s 7ms/step - loss: 2.5477 - accuracy: 0.4596\n",
            "Epoch 78/100\n",
            "1480/1480 [==============================] - 11s 8ms/step - loss: 2.5357 - accuracy: 0.4618\n",
            "Epoch 79/100\n",
            "1480/1480 [==============================] - 11s 7ms/step - loss: 2.5262 - accuracy: 0.4630\n",
            "Epoch 80/100\n",
            "1480/1480 [==============================] - 11s 7ms/step - loss: 2.5191 - accuracy: 0.4637\n",
            "Epoch 81/100\n",
            "1480/1480 [==============================] - 11s 7ms/step - loss: 2.5130 - accuracy: 0.4659\n",
            "Epoch 82/100\n",
            "1480/1480 [==============================] - 11s 7ms/step - loss: 2.5056 - accuracy: 0.4666\n",
            "Epoch 83/100\n",
            "1480/1480 [==============================] - 11s 7ms/step - loss: 2.4968 - accuracy: 0.4678\n",
            "Epoch 84/100\n",
            "1480/1480 [==============================] - 11s 7ms/step - loss: 2.5029 - accuracy: 0.4685\n",
            "Epoch 85/100\n",
            "1480/1480 [==============================] - 11s 7ms/step - loss: 2.4726 - accuracy: 0.4729\n",
            "Epoch 86/100\n",
            "1480/1480 [==============================] - 11s 7ms/step - loss: 2.4790 - accuracy: 0.4699\n",
            "Epoch 87/100\n",
            "1480/1480 [==============================] - 11s 7ms/step - loss: 2.4638 - accuracy: 0.4747\n",
            "Epoch 88/100\n",
            "1480/1480 [==============================] - 11s 7ms/step - loss: 2.4635 - accuracy: 0.4748\n",
            "Epoch 89/100\n",
            "1480/1480 [==============================] - 11s 7ms/step - loss: 2.4495 - accuracy: 0.4784\n",
            "Epoch 90/100\n",
            "1480/1480 [==============================] - 11s 7ms/step - loss: 2.4389 - accuracy: 0.4789\n",
            "Epoch 91/100\n",
            "1480/1480 [==============================] - 11s 7ms/step - loss: 2.4254 - accuracy: 0.4817\n",
            "Epoch 92/100\n",
            "1480/1480 [==============================] - 11s 7ms/step - loss: 2.4279 - accuracy: 0.4814\n",
            "Epoch 93/100\n",
            "1480/1480 [==============================] - 11s 7ms/step - loss: 2.4146 - accuracy: 0.4827\n",
            "Epoch 94/100\n",
            "1480/1480 [==============================] - 11s 7ms/step - loss: 2.4318 - accuracy: 0.4783\n",
            "Epoch 95/100\n",
            "1480/1480 [==============================] - 11s 8ms/step - loss: 2.4044 - accuracy: 0.4853\n",
            "Epoch 96/100\n",
            "1480/1480 [==============================] - 11s 7ms/step - loss: 2.4094 - accuracy: 0.4840\n",
            "Epoch 97/100\n",
            "1480/1480 [==============================] - 11s 7ms/step - loss: 2.4065 - accuracy: 0.4834\n",
            "Epoch 98/100\n",
            "1480/1480 [==============================] - 11s 7ms/step - loss: 2.4051 - accuracy: 0.4839\n",
            "Epoch 99/100\n",
            "1480/1480 [==============================] - 11s 7ms/step - loss: 2.3880 - accuracy: 0.4876\n",
            "Epoch 100/100\n",
            "1480/1480 [==============================] - 11s 7ms/step - loss: 2.3791 - accuracy: 0.4878\n"
          ]
        }
      ],
      "source": [
        "from tensorflow.keras.models import Sequential\n",
        "from tensorflow.keras.layers import Embedding, LSTM, Dense, Bidirectional\n",
        "\n",
        "model = Sequential()\n",
        "model.add(Embedding(total_words, 64, input_length=max_sequence_len-1))\n",
        "model.add(Bidirectional(LSTM(20)))\n",
        "model.add(Dense(total_words, activation='softmax'))\n",
        "model.compile(loss='categorical_crossentropy', optimizer='adam', metrics=['accuracy'])\n",
        "history = model.fit(input_sequences, one_hot_labels, epochs=100, verbose=1)"
      ]
    },
    {
      "cell_type": "code",
      "execution_count": 7,
      "metadata": {
        "id": "rOqmmarvlSLh",
        "colab": {
          "base_uri": "https://localhost:8080/",
          "height": 279
        },
        "outputId": "ad537279-1642-4904-d7e8-d8c2a756502a"
      },
      "outputs": [
        {
          "output_type": "display_data",
          "data": {
            "text/plain": [
              "<Figure size 432x288 with 1 Axes>"
            ],
            "image/png": "[encoded data removed]"
          },
          "metadata": {
            "needs_background": "light"
          }
        }
      ],
      "source": [
        "import matplotlib.pyplot as plt\n",
        "\n",
        "def plot_graphs(history, string):\n",
        "  plt.plot(history.history[string])\n",
        "  plt.xlabel(\"Epochs\")\n",
        "  plt.ylabel(string)\n",
        "  plt.show()\n",
        "\n",
        "plot_graphs(history, 'accuracy')"
      ]
    },
    {
      "cell_type": "code",
      "source": [
        "model.save('my_model.h5')"
      ],
      "metadata": {
        "id": "s2WqE0poexut"
      },
      "execution_count": 10,
      "outputs": []
    }
  ],
  "metadata": {
    "accelerator": "GPU",
    "colab": {
      "collapsed_sections": [],
      "name": "l10c04_nlp_optimizing_the_text_generation_model.ipynb",
      "provenance": []
    },
    "kernelspec": {
      "display_name": "Python 3",
      "name": "python3"
    },
    "gpuClass": "standard"
  },
  "nbformat": 4,
  "nbformat_minor": 0
}